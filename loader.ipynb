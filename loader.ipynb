{
 "cells": [
  {
   "cell_type": "code",
   "execution_count": 5,
   "metadata": {},
   "outputs": [],
   "source": [
    "\n",
    "def get_bounds(data):\n",
    "  \"\"\"Return bounds of data.\"\"\"\n",
    "  min_x = 0\n",
    "  max_x = 0\n",
    "  min_y = 0\n",
    "  max_y = 0\n",
    "\n",
    "  abs_x = 0\n",
    "  abs_y = 0\n",
    "  for i in range(len(data)):\n",
    "    x = float(data[i, 0])\n",
    "    y = float(data[i, 1])\n",
    "    abs_x += x\n",
    "    abs_y += y\n",
    "    min_x = min(min_x, abs_x)\n",
    "    min_y = min(min_y, abs_y)\n",
    "    max_x = max(max_x, abs_x)\n",
    "    max_y = max(max_y, abs_y)\n",
    "\n",
    "  return (min_x, max_x, min_y, max_y)"
   ]
  },
  {
   "cell_type": "code",
   "execution_count": 7,
   "metadata": {},
   "outputs": [
    {
     "name": "stdout",
     "output_type": "stream",
     "text": [
      "(-31.0, 102.0, -17.0, 116.0)\n",
      "[[ 43   0   0]\n",
      " [  8   6   1]\n",
      " [  6   1   0]\n",
      " [  1 -10   0]\n",
      " [ 11 -11   0]\n",
      " [  7  -3   0]\n",
      " [ 13   0   0]\n",
      " [  6   3   0]\n",
      " [  7  22   0]\n",
      " [ -3   6   0]\n",
      " [-27  20   1]\n",
      " [-72 -37   0]\n",
      " [ -1  -7   0]\n",
      " [-15  -2   0]\n",
      " [-13   5   0]\n",
      " [ -2   6   0]\n",
      " [  7  26   0]\n",
      " [ 12   9   1]\n",
      " [ 41  11   0]\n",
      " [ -6   1   0]\n",
      " [ -5   7   0]\n",
      " [ -2  13   0]\n",
      " [  3   7   0]\n",
      " [  7   5   0]\n",
      " [ 11   1   0]\n",
      " [  5  -5   0]\n",
      " [ -1 -25   0]\n",
      " [-11  -3   0]\n",
      " [ -9   3   0]\n",
      " [-12  10   1]\n",
      " [-14 -19   0]\n",
      " [ -6  30   0]\n",
      " [  0  21   0]\n",
      " [  3   6   0]\n",
      " [ 20  16   0]\n",
      " [  8   3   0]\n",
      " [ 37   0   0]\n",
      " [  8  -2   0]\n",
      " [ 11 -14   0]\n",
      " [  6 -25   0]\n",
      " [ -5 -33   0]\n",
      " [ -3  -6   0]\n",
      " [ -7  -4   1]\n",
      " [-51   5   0]\n",
      " [  0   0   1]\n",
      " [ -4  -6   0]\n",
      " [  2   5   1]]\n"
     ]
    }
   ],
   "source": [
    "import numpy as np\n",
    "## Some sample code for loading the dataset\n",
    "\n",
    "## For the seq data\n",
    "\n",
    "bear_seq = np.load(\"dataset/seq/sketchrnn_bear.npz\", allow_pickle=True, encoding=\"latin1\")\n",
    "\n",
    "bear_seq_train = bear_seq[\"train\"]\n",
    "bear_seq_test = bear_seq[\"test\"]\n",
    "bear_seq_valid = bear_seq[\"valid\"]\n",
    "\n",
    "print(get_bounds(bear_seq_train[0]))\n",
    "print(bear_seq_train[0])"
   ]
  }
 ],
 "metadata": {
  "interpreter": {
   "hash": "11938c6bc6919ae2720b4d5011047913343b08a43b18698fd82dedb0d4417594"
  },
  "kernelspec": {
   "display_name": "Python 3.9.6 64-bit",
   "language": "python",
   "name": "python3"
  },
  "language_info": {
   "codemirror_mode": {
    "name": "ipython",
    "version": 3
   },
   "file_extension": ".py",
   "mimetype": "text/x-python",
   "name": "python",
   "nbconvert_exporter": "python",
   "pygments_lexer": "ipython3",
   "version": "3.9.6"
  },
  "orig_nbformat": 4
 },
 "nbformat": 4,
 "nbformat_minor": 2
}
